{
  "nbformat": 4,
  "nbformat_minor": 0,
  "metadata": {
    "colab": {
      "name": "Bhakta_HW1_4200.ipynb",
      "provenance": [],
      "collapsed_sections": []
    },
    "kernelspec": {
      "name": "python3",
      "display_name": "Python 3"
    },
    "language_info": {
      "name": "python"
    }
  },
  "cells": [
    {
      "cell_type": "markdown",
      "source": [
        "Answer 1\n",
        "\n",
        "An immutable variable is a variable who’s value cannot be reassigned or are also defined as constants whose values do not change during execution. The mutable variable can be reassigned and can have values changed during execution."
      ],
      "metadata": {
        "id": "EwFLCBDoVfFC"
      }
    },
    {
      "cell_type": "markdown",
      "source": [
        "Answer 2\n",
        "\n",
        "10 // 6 will give the quotient 1 as a floor to the left in line of whole number answer, while 10 / 6 will give the quotient 1.666… as a float answer."
      ],
      "metadata": {
        "id": "mx2n6KHkVm2n"
      }
    },
    {
      "cell_type": "code",
      "source": [
        "# Answer 3 \n",
        "\n",
        "exponent = 5\n",
        "exponent **= 3                 # will store 5^3 as augmented value of 5 to the power of 3\n",
        "print(exponent)"
      ],
      "metadata": {
        "id": "CYzFUGQ5DhKO"
      },
      "execution_count": null,
      "outputs": []
    },
    {
      "cell_type": "markdown",
      "source": [
        "Answer 4\n",
        "\n",
        "-  List: is a datatype which can be written as a list(with dynamic size array) with commas separating values. They are mutable(can be converted into another datatypes) and can store any data element inside. I would choose lists if the data will shrink or grow during runtime over other array datatypes.\n",
        "\n",
        "-  Tuple: is like list but is sequenced or indexed as integers. They are immutable and also can store any datatype. I would prefer tuples if the data is not changing. Also, they are time efficient which is why they would be preferred over the other two.\n",
        "\n",
        "- Set: is an unordered collection of elements. They are mutable but only immutable objects can be stored in them. I would use a set when I don’t want any duplicate values in a variable as the other two options allow it."
      ],
      "metadata": {
        "id": "TiGtOSXXVqU4"
      }
    },
    {
      "cell_type": "code",
      "source": [
        "# Answer 5\n",
        "fruits = ['apple', 'strawberry', 'mango', 'cherry', 'kiwi', 'dragon_fruit']\n",
        "newFruit = ''\n",
        "\n",
        "for i in range (fruits.__len__()):\n",
        "    if(fruits[i].__len__() < 6):\n",
        "        newFruit = fruits[i]\n",
        "        del fruits[i]\n",
        "        fruits.insert(i, newFruit[1:newFruit.__len__()])\n",
        "    elif(fruits[i].__len__() > 5):\n",
        "        newFruit = fruits[i]\n",
        "        del fruits[i]\n",
        "        fruits.insert(i, newFruit[6:newFruit.__len__()])\n",
        "print(fruits) "
      ],
      "metadata": {
        "id": "whEnQHScDPUK"
      },
      "execution_count": null,
      "outputs": []
    },
    {
      "cell_type": "markdown",
      "source": [
        "Answer 6\n",
        "\n",
        "- In pass by reference, the entire element / object is passed to the caller directly. I would use pass by reference if I want the arguments to modify the original contents of the vales being passed from within the call function. \n",
        "- Meanwhile, in pass by value, a copy of the element / object is passed to the caller. I would use this when I don’t want the original contents to be modified when called."
      ],
      "metadata": {
        "id": "DW-6ZUchVyd0"
      }
    },
    {
      "cell_type": "code",
      "source": [
        "# Answer 7\n",
        "\n",
        "# input driver\n",
        "principle = int(input(\"Enter starting principle please: \"))\n",
        "n = int(input(\"Enter number of compounding periods per year: \"))\n",
        "rate = float(input(\"Enter annual interest rate: \"))\n",
        "years = int(input(\"Enter the amount of years: \"))\n",
        "\n",
        "# calculation driver\n",
        "finalAmount = principle * (((1 + ((rate/100.0)/n)) ** (n*years)))\n",
        "\n",
        "# output driver\n",
        "print(\"The final amount after \", years, \" years is \", finalAmount)"
      ],
      "metadata": {
        "id": "ElkGJh_tdNbF"
      },
      "execution_count": null,
      "outputs": []
    },
    {
      "cell_type": "code",
      "source": [
        "# Answer 8\n",
        "\n",
        "def compound_interest(principle, rate, time):\n",
        " \n",
        "    # Calculates compound interest\n",
        "    for i in range(time):\n",
        "      Amount = ((1+(rate/100)) ** (i+1)) * principle\n",
        "      finalIntrest = Amount - principle\n",
        "      print(\"Compound interest for year \", i + 1, \" is \", finalIntrest)\n",
        " \n",
        "# Driver Code\n",
        "amount = int(input(\"Enter starting principle please: \"))\n",
        "percentage = float(input(\"Enter annual interest rate: \"))\n",
        "try:\n",
        "    start_year = int(input(\"Enter the start year: \"))\n",
        "    end_year = int(input(\"Enter the end year: \"))\n",
        "except:\n",
        "    print(\"sad\")\n",
        "if(start_year > end_year):\n",
        "  print(\"try running the program again\")\n",
        "else:\n",
        "  year = end_year - start_year\n",
        "  compound_interest(amount, percentage, year)"
      ],
      "metadata": {
        "id": "Mdl9_0Q1DUzF"
      },
      "execution_count": null,
      "outputs": []
    },
    {
      "cell_type": "code",
      "source": [
        "# Answer 9\n",
        "\n",
        "list = []\n",
        "for i in range(1,101):\n",
        "  list.append(i)\n",
        "for j in list:\n",
        "  if(j%4 == 0 and j%7 == 0):\n",
        "    print(j, \" four seven\")\n",
        "  elif(j%4 == 0):\n",
        "    print(j, \" four\")\n",
        "  elif(j%7 == 0):\n",
        "    print(j, \" seven\")\n",
        "  else:\n",
        "    print(j)"
      ],
      "metadata": {
        "id": "Z7eGXok9RBgf"
      },
      "execution_count": null,
      "outputs": []
    },
    {
      "cell_type": "code",
      "source": [
        "# Answer 10\n",
        "\n",
        "import numpy as np\n",
        "import random\n",
        "\n",
        "total = 0\n",
        "\n",
        "for i in range(100000):\n",
        "\n",
        "  door0 = False\n",
        "  door1 = False\n",
        "  door2 = False\n",
        "  bad_door = -1\n",
        "  car_door = np.random.randint(0,3)\n",
        "\n",
        "  choice = np.random.randint(0,3)\n",
        "\n",
        "  if car_door == 0:\n",
        "    door0 = True\n",
        "  elif car_door == 1:\n",
        "    door1 = True\n",
        "  elif car_door == 2:\n",
        "    door2 = True\n",
        "\n",
        "  if choice == 0:\n",
        "    if door1 == False:\n",
        "      choice = 2\n",
        "    else:\n",
        "      choice = 1\n",
        "  elif choice == 1:\n",
        "    if door0 == False:\n",
        "      choice = 2\n",
        "    else:\n",
        "      choice = 0\n",
        "  elif choice == 2:\n",
        "    if door0 == False:\n",
        "      choice = 1\n",
        "    else:\n",
        "      choice = 0\n",
        "\n",
        "  if choice == car_door:\n",
        "    total += 1\n",
        "\n",
        "print(\"Percentage of cars won over 100,000 games: \", total/100000)"
      ],
      "metadata": {
        "id": "UVwDur7-WRSn"
      },
      "execution_count": null,
      "outputs": []
    },
    {
      "cell_type": "markdown",
      "source": [
        ""
      ],
      "metadata": {
        "id": "vTPVCs4BDUb6"
      }
    }
  ]
}